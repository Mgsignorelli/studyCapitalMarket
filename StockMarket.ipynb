{
 "cells": [
  {
   "cell_type": "markdown",
   "id": "29cf5eb0",
   "metadata": {},
   "source": [
    "#### Investment\n",
    "\n",
    "* Stock Market\n",
    "* Bonds\n",
    "* Mutual Funds\n",
    "* Exhange Traded Fund\n",
    "* Commodity Market\n",
    "* Fixed Income\n",
    "* Fixed Depoiste\n",
    "* Recurring Deposite"
   ]
  },
  {
   "cell_type": "markdown",
   "id": "c49e4587",
   "metadata": {},
   "source": [
    "## Capital Market = Stocks + Bonds\n",
    "\n",
    "#### Bond Market\n",
    "Its similar way of giving loan to a company for particular time period \n",
    "\n",
    "#### Treasury Bills (T-Bills)\n",
    "Short term bonds issued by the Treasury that mature in less than a year\n",
    "\n",
    "#### Stock Market\n",
    "Its a system that enables companies to sell partial ownership in themselves to people in exchange for cash\n",
    "\n",
    "#### Exhange Traded Fund (ETF)\n",
    "Its an basket of multiple stock where the invested amount is distributed in all stock present in ETF as per thier weightage"
   ]
  },
  {
   "cell_type": "markdown",
   "id": "19b95928",
   "metadata": {},
   "source": [
    "#### Diversification\n",
    "\n",
    "Instead of investing all money at one place, invest in multiple places, to achieve diversification it can be achieved from few ways:\n",
    "* RealState, Stock, Index Fund, FixedDeposite\n",
    "* Invest in Stock distribute the invested amount in multiple sector\n",
    "* Invest in Stock as well as in internation Stock (Invest in Internation Sotck can be done by investing ADR or opening account in the country firm)"
   ]
  },
  {
   "cell_type": "markdown",
   "id": "00e98cbf",
   "metadata": {},
   "source": [
    "#### Shrinking Stock Market\n",
    "\n",
    "Size of the market is same, no of share get reduce to trade\n",
    "It happen in few ways\n",
    "* Large companines buy smaller one\n",
    "* Some of them going to public\n",
    "* No of share is decreasing over the period of time (Ex: Buyback)\n",
    "\n",
    "##### Issue:\n",
    "* Difficult to find good stock"
   ]
  },
  {
   "cell_type": "markdown",
   "id": "781cc529",
   "metadata": {},
   "source": [
    "#### Valuation:\n",
    "Valuation is the analytical process of determining the current (or projected) worth of an asset or a company.\n",
    "\n",
    "Valuation = ExpectedDivedend/(RequriredRateOfReturn-GrowthRate)"
   ]
  },
  {
   "cell_type": "code",
   "execution_count": 22,
   "id": "84bb3db3",
   "metadata": {},
   "outputs": [
    {
     "name": "stdout",
     "output_type": "stream",
     "text": [
      "56.522407170294606\n"
     ]
    }
   ],
   "source": [
    "stock_name='Microsoft'\n",
    "\n",
    "last_year_dividend=1.84\n",
    "\n",
    "#In Billion\n",
    "last_year_total_revenues_2017 = 96.57\n",
    "current_year_total_revenues_2018 = 110.36\n",
    "\n",
    "\n",
    "growth_rate = (current_year_total_revenues_2018-last_year_total_revenues_2017)/last_year_total_revenues_2017*100\n",
    "expected_divdend = (growth_rate/100+1)*last_year_dividend\n",
    "\n",
    "#18% assumption for current year\n",
    "required_rate_of_return = 18\n",
    "\n",
    "valuation=expected_divdend/((required_rate_of_return-growth_rate)/100)\n",
    "\n",
    "print(valuation)"
   ]
  },
  {
   "cell_type": "markdown",
   "id": "ecd21223",
   "metadata": {},
   "source": [
    "#### Earning Per Share (EPS)\n",
    "Earnings per share (EPS) is calculated as a company's profit divided by the outstanding shares of its common stock. The resulting number serves as an indicator of a company's profitability. It is common for a company to report EPS that is adjusted for extraordinary items and potential share dilution.\n",
    "\n",
    "```\n",
    "EPS=(netIncome-annualDividend)/shares\n",
    "```"
   ]
  },
  {
   "cell_type": "markdown",
   "id": "8f746cb9",
   "metadata": {},
   "source": [
    "#### Build portfolio\n",
    "\n",
    "* Value Stocks\n",
    "> * Modestly priced\n",
    "> * Mature Firms\n",
    "> * More Stable\n",
    "> * Indutries that aren't rapidly growing\n",
    "> * Exapmle: Railroad, Utility, Industrial equipments makers, Energy providers\n",
    "\n",
    "* Growth Stocks\n",
    "> * Fast Growing\n",
    "> * Lower profit\n",
    "> * Relatively expensive\n",
    "> * Example: IT, etc"
   ]
  }
 ],
 "metadata": {
  "kernelspec": {
   "display_name": "Python 3 (ipykernel)",
   "language": "python",
   "name": "python3"
  },
  "language_info": {
   "codemirror_mode": {
    "name": "ipython",
    "version": 3
   },
   "file_extension": ".py",
   "mimetype": "text/x-python",
   "name": "python",
   "nbconvert_exporter": "python",
   "pygments_lexer": "ipython3",
   "version": "3.11.3"
  }
 },
 "nbformat": 4,
 "nbformat_minor": 5
}
