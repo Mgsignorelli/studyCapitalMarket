{
 "cells": [
  {
   "cell_type": "markdown",
   "id": "2f2eefdc",
   "metadata": {},
   "source": [
    "## Invoice Factoring\n",
    "\n",
    "Invoicing factoring, a business sells any number of unpaid invoices to a factor for less than the amount it is owed. In return, the business receives the majority of the invoice amount — as much as 90% — within a few business days, rather than having to wait the 30-, 60- or 90-day period specified on the invoice. In most factoring situations, the factor becomes responsible for collecting on the invoice.\n",
    "\n",
    "#### How invoice factoring works\n",
    "* When determining whether to purchase an invoice, the factoring company will examine a business's customers and the likelihood they will remit the full value of the invoice. To this end, the factor will look at the customers' credit ratings, try to assess their accounts payable performance and consider other issues that may affect payment, such as outstanding litigation. The factor must also make sure the invoice is valid, which may include a review of shipping statements and other documentation.\n",
    "\n",
    "* Most factoring agreements include a “recourse” provision, meaning the company selling the invoice must return some or all of an advance cash payment if a customer doesn't pay. Conversely, the factor will assume the risk of nonpayment in a non-recourse factoring arrangement. Non-recourse factoring typically carries a higher fee."
   ]
  },
  {
   "cell_type": "code",
   "execution_count": null,
   "id": "c9f5316d",
   "metadata": {},
   "outputs": [],
   "source": []
  }
 ],
 "metadata": {
  "kernelspec": {
   "display_name": "Python 3 (ipykernel)",
   "language": "python",
   "name": "python3"
  },
  "language_info": {
   "codemirror_mode": {
    "name": "ipython",
    "version": 3
   },
   "file_extension": ".py",
   "mimetype": "text/x-python",
   "name": "python",
   "nbconvert_exporter": "python",
   "pygments_lexer": "ipython3",
   "version": "3.11.3"
  }
 },
 "nbformat": 4,
 "nbformat_minor": 5
}
