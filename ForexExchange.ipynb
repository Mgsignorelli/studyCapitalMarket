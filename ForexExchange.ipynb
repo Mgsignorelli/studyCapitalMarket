{
 "cells": [
  {
   "cell_type": "markdown",
   "id": "21762774",
   "metadata": {},
   "source": [
    "### Forex Exchange\n",
    "\n",
    "Forex (FX) is a portmanteau of the words foreign currency and exchange. Foreign exchange is the process of changing one currency into another for various reasons, usually for commerce, trading, or tourism.\n",
    "\n",
    "If investor is doing bussiness in different country, It also used to hedge the investment \n",
    "\n",
    "#### Triangle Arbitarge\n",
    "Instead of converting currency from one to another use third currency to increase the return"
   ]
  },
  {
   "cell_type": "code",
   "execution_count": 10,
   "id": "c450af93",
   "metadata": {},
   "outputs": [
    {
     "name": "stdout",
     "output_type": "stream",
     "text": [
      "Difference in converting to usd_to_inr and usd_eur_inr \n",
      " -0.2430000000000092\n"
     ]
    }
   ],
   "source": [
    "usd=1\n",
    "usd_inr=83.01\n",
    "eur_inr=88.05\n",
    "usd_eur=0.94\n",
    "\n",
    "\n",
    "usd_eur_inr=(usd*usd_eur)*eur_inr\n",
    "\n",
    "print(\"Difference in converting to usd_to_inr and usd_eur_inr \\n\", usd_eur_inr-usd_inr)\n"
   ]
  },
  {
   "cell_type": "code",
   "execution_count": null,
   "id": "f48b2090",
   "metadata": {},
   "outputs": [],
   "source": []
  }
 ],
 "metadata": {
  "kernelspec": {
   "display_name": "Python 3 (ipykernel)",
   "language": "python",
   "name": "python3"
  },
  "language_info": {
   "codemirror_mode": {
    "name": "ipython",
    "version": 3
   },
   "file_extension": ".py",
   "mimetype": "text/x-python",
   "name": "python",
   "nbconvert_exporter": "python",
   "pygments_lexer": "ipython3",
   "version": "3.11.3"
  }
 },
 "nbformat": 4,
 "nbformat_minor": 5
}
