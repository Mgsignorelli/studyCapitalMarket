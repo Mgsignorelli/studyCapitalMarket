{
 "cells": [
  {
   "cell_type": "markdown",
   "id": "29cf5eb0",
   "metadata": {},
   "source": [
    "#### Investment\n",
    "\n",
    "* Stock Market\n",
    "* Bonds\n",
    "* Mutual Funds\n",
    "* Exhange Traded Fund\n",
    "* Commodity Market\n",
    "* Fixed Income\n",
    "* Fixed Depoiste\n",
    "* Recurring Deposite"
   ]
  },
  {
   "cell_type": "markdown",
   "id": "c49e4587",
   "metadata": {},
   "source": [
    "## Capital Market = Stocks + Bonds\n",
    "\n",
    "#### Bond Market\n",
    "Its similar way of giving loan to a company for particular time period \n",
    "\n",
    "#### Treasury Bills (T-Bills)\n",
    "Short term bonds issued by the Treasury that mature in less than a year\n",
    "\n",
    "#### Equity\n",
    "Its a system that enables companies to sell partial ownership in themselves to people in exchange for cash\n",
    "\n",
    "#### Exhange Traded Fund (ETF)\n",
    "Its an basket of multiple stock where the invested amount is distributed in all stock present in ETF as per thier weightage"
   ]
  },
  {
   "cell_type": "markdown",
   "id": "19b95928",
   "metadata": {},
   "source": [
    "#### Diversification\n",
    "\n",
    "Instead of investing all money at one place, invest in multiple places, to achieve diversification it can be achieved from few ways:\n",
    "* RealState, Stock, Index Fund, FixedDeposite\n",
    "* Invest in Stock distribute the invested amount in multiple sector\n",
    "* Invest in Stock as well as in internation Stock (Invest in Internation Sotck can be done by investing ADR or opening account in the country firm)"
   ]
  },
  {
   "cell_type": "markdown",
   "id": "00e98cbf",
   "metadata": {},
   "source": [
    "#### Shrinking Stock Market\n",
    "\n",
    "Size of the market is same, no of share get reduce to trade\n",
    "It happen in few ways\n",
    "* Large companines buy smaller one\n",
    "* Some of them going to public\n",
    "* No of share is decreasing over the period of time (Ex: Buyback)\n",
    "\n",
    "##### Issue:\n",
    "* Difficult to find good stock"
   ]
  },
  {
   "cell_type": "markdown",
   "id": "781cc529",
   "metadata": {},
   "source": [
    "#### Valuation:\n",
    "Valuation is the analytical process of determining the current (or projected) worth of an asset or a company.\n",
    "\n",
    "Valuation = ExpectedDivedend/(RequriredRateOfReturn-GrowthRate)"
   ]
  },
  {
   "cell_type": "code",
   "execution_count": 1,
   "id": "84bb3db3",
   "metadata": {},
   "outputs": [
    {
     "name": "stdout",
     "output_type": "stream",
     "text": [
      "56.522407170294606\n"
     ]
    }
   ],
   "source": [
    "stock_name='Microsoft'\n",
    "\n",
    "last_year_dividend=1.84\n",
    "\n",
    "#In Billion\n",
    "last_year_total_revenues_2017 = 96.57\n",
    "current_year_total_revenues_2018 = 110.36\n",
    "\n",
    "\n",
    "growth_rate = (current_year_total_revenues_2018-last_year_total_revenues_2017)/last_year_total_revenues_2017*100\n",
    "expected_divdend = (growth_rate/100+1)*last_year_dividend\n",
    "\n",
    "#18% assumption for current year\n",
    "required_rate_of_return = 18\n",
    "\n",
    "valuation=expected_divdend/((required_rate_of_return-growth_rate)/100)\n",
    "\n",
    "print(valuation)"
   ]
  },
  {
   "cell_type": "markdown",
   "id": "ecd21223",
   "metadata": {},
   "source": [
    "#### Earning Per Share (EPS)\n",
    "Earnings per share (EPS) is calculated as a company's profit divided by the outstanding shares of its common stock. The resulting number serves as an indicator of a company's profitability. It is common for a company to report EPS that is adjusted for extraordinary items and potential share dilution.\n",
    "\n",
    "```\n",
    "EPS=(netIncome-annualDividend)/shares\n",
    "```\n",
    "\n",
    "### Types of Ways to get Share\n",
    "\n",
    "#### Equity Share\n",
    "* Common Stocks\n",
    "> It allow individual to enjoy the profits of the issuing company in form of dividends paid to the shareholders.\n",
    "> Ownership\n",
    "> voiting rights\n",
    "> dividends\n",
    "\n",
    "* Preference Share\n",
    "> A preference share enables a shareholder with a right to obtain regular dividends from a company\n",
    "> Preference share over the common shares during payment o dividends or during liquidation of the company\n",
    "\n",
    "\n",
    "#### Primary Market\n",
    "* Deal with issuance of new securities\n",
    "* Shares can be bought directly from the issuing company\n",
    "\n",
    "> #### Intial Public Offereing (IPO)\n",
    "> * If company sells its share to individuals investors for the first time it is referred as IPO\n",
    "\n",
    "> #### ESOP\n",
    "> Employee can acquire stock of the company as a part of the compensation or rewards program\n",
    "\n",
    "#### Secondary Market\n",
    "Shares are have already bought and sold, it operate by the exchanges to insure safety and trade.\n",
    "\n",
    "#### Factors Affecting Price of Stocks\n",
    "* Market News +ve or -ve\n",
    "* Price Momentum in international market\n",
    "* Price change in similar stocks\n",
    "* Earnings of Company\n",
    "\n",
    "## Corporate Action\n",
    "Any event that brings material change to a company and affect its stakefolder\n",
    "\n",
    "* #### Stock Split\n",
    "Increase no of share in market without impacting total outstanding shares, Price is adjusted such as MarketCap before and after Stock Split is same."
   ]
  },
  {
   "cell_type": "code",
   "execution_count": 10,
   "id": "6c6c0bf4",
   "metadata": {},
   "outputs": [
    {
     "name": "stdout",
     "output_type": "stream",
     "text": [
      "before_market_cap =  5000\n",
      "after_market_cap =  5000.0\n"
     ]
    }
   ],
   "source": [
    "#Stock Split 2:1\n",
    "no_of_share=100\n",
    "price=50\n",
    "before_market_cap=no_of_share*price\n",
    "\n",
    "split_for_share=1\n",
    "split_given_share=2\n",
    "\n",
    "after_no_of_share=no_of_share/split_for_share*split_given_share\n",
    "after_price=price/split_given_share\n",
    "after_market_cap=after_no_of_share*after_price\n",
    "\n",
    "print(\"before_market_cap = \", before_market_cap)\n",
    "print(\"after_market_cap = \", after_market_cap)"
   ]
  },
  {
   "cell_type": "markdown",
   "id": "b6c11188",
   "metadata": {},
   "source": [
    "* #### Reverse Stock Split (Consolidation)\n",
    "No of total outstanding value get decrease where price per share get increase without impacting the market cap"
   ]
  },
  {
   "cell_type": "code",
   "execution_count": 16,
   "id": "4637282b",
   "metadata": {},
   "outputs": [
    {
     "name": "stdout",
     "output_type": "stream",
     "text": [
      "before_market_cap =  5000\n",
      "after_market_cap =  5000.0\n"
     ]
    }
   ],
   "source": [
    "#Reverse Stock Split 2:1\n",
    "\n",
    "no_of_share=100\n",
    "price=50\n",
    "before_market_cap=no_of_share*price\n",
    "\n",
    "split_for_share=1\n",
    "split_given_share=2\n",
    "\n",
    "after_no_of_share=no_of_share/split_given_share*split_for_share\n",
    "after_price=price*split_given_share\n",
    "after_market_cap=after_no_of_share*after_price\n",
    "\n",
    "print(\"before_market_cap = \", before_market_cap)\n",
    "print(\"after_market_cap = \", after_market_cap)"
   ]
  },
  {
   "cell_type": "markdown",
   "id": "77845d81",
   "metadata": {},
   "source": [
    "* #### BuyBack (Tender Offer)\n",
    "Company offers to buy back its shares at a premium. It possible it happen to increase value of share by decreasing the supply or eliminate threats by operators.\n",
    "\n",
    "* #### Bonus Share\n",
    "Issue fresh shares to distibute profits to shareholders called bonus issue effect the price. To encourage retails participation by increasing their equity base.\n",
    "No of share increase where price will not impact, give advantage for tax exemption"
   ]
  },
  {
   "cell_type": "code",
   "execution_count": 18,
   "id": "ecefa1ac",
   "metadata": {},
   "outputs": [
    {
     "name": "stdout",
     "output_type": "stream",
     "text": [
      "before_market_cap =  5000\n",
      "after_market_cap =  15000.0\n",
      "100 300.0\n"
     ]
    }
   ],
   "source": [
    "# Bonus of 2:1\n",
    "no_of_share=100\n",
    "price=50\n",
    "before_market_cap=no_of_share*price\n",
    "\n",
    "split_for_share=1\n",
    "split_given_share=2\n",
    "\n",
    "after_no_of_share=no_of_share+(no_of_share/split_for_share*split_given_share)\n",
    "after_price=price\n",
    "after_market_cap=after_no_of_share*after_price\n",
    "\n",
    "print(\"before_market_cap = \", before_market_cap)\n",
    "print(\"after_market_cap = \", after_market_cap)"
   ]
  },
  {
   "cell_type": "markdown",
   "id": "d270be73",
   "metadata": {},
   "source": [
    "\n",
    "\n",
    "#### Rights Issue/Open Offer\n",
    "Company offeres new shares to existing shareholders\n",
    "\n",
    "\n",
    "\n",
    "#### Warrants\n",
    "Right to buy shares in a company in the future on agreed terms.\n",
    "\n",
    "#### TakeOver\n",
    "A predator makes a bid for your share\n",
    "\n",
    "#### Conversion (debt to equity)\n",
    "Debt holders have the option to convert it shares\n",
    "\n",
    "#### Repayment/Redemtion\n",
    "Company may pay back capital to share and/or stake holders"
   ]
  },
  {
   "cell_type": "markdown",
   "id": "2ae1755b",
   "metadata": {},
   "source": [
    "### Types of Trader\n",
    "\n",
    "#### Scalper\n",
    "100 of trade in day, earn profit by effective use of spread (difference in bid and ask trade)\n",
    "\n",
    "#### Momentum Trader\n",
    "Identify high vloume stocks, Leverage by momentum gain/loss\n",
    "\n",
    "#### Techincal Trader\n",
    "Analyze charts and graph, invest based on pattern\n",
    "\n",
    "#### Fundamental Trader\n",
    "Invest based on fundamental analysis by study balance sheet, income, Splits, acquisition based on undervalue or over valued share\n",
    "\n",
    "#### Swing Trader\n",
    "Share for days earn profits by changing in price effect by sentiment, corporate action etc\n",
    "\n",
    "#### Day Trader\n",
    "Take position and close the position on same day"
   ]
  },
  {
   "cell_type": "markdown",
   "id": "b2edb88b",
   "metadata": {},
   "source": [
    "### Types of Order\n",
    "\n",
    "#### Market Order\n",
    "Stock sold and bought at market price\n",
    "\n",
    "#### Limit Order\n",
    "Trader mention limit of buy/sell the stocks, It also use to manage the risk \n",
    "sell >= sellLimit\n",
    "buy <= buyLimit\n",
    "\n",
    "#### Day Order\n",
    "Buy and sell stock in same day, If order are not execute it will not carry over to next day\n",
    "\n",
    "#### Good Till Cancelled Order (GTC)\n",
    "Order buy or sell at specific limit order, Order is unexecuted till the limit price come in range as per the limit specified\n",
    "\n",
    "#### Good Till Date (GTD)\n",
    "Order remain unexecuted till the date specified by the trader\n",
    "\n",
    "#### All or None Order (AON)\n",
    "It either execute all or non order. It an open order until full quantity satisfied\n",
    "\n",
    "#### Immediate or Cancel Order (IOC)\n",
    "It either execute (complete or partially) or get cancelled upon being placed\n",
    "\n",
    "#### Fill or Kill (FOK)\n",
    "Buy or sell a stock that must be executed immediately else it get cancelled.\n",
    "\n",
    "#### Drip Feed\n",
    "slowly advancing funds or capital in stages rather than injecting a large lump sum right off the bat."
   ]
  },
  {
   "cell_type": "markdown",
   "id": "33545de1",
   "metadata": {},
   "source": [
    "## Trading Strategy\n",
    "\n",
    "#### Buy and Hold\n",
    "Invested over long period of time for long-term, Its a safest option based on multiple resarch. It also gives an advantage of time and tax exemption\n",
    "\n",
    "#### Market Timing\n",
    "Trader follow the market based on charts to decide when to buy and sell. Sell stokcs when market are high and buy when it low\n",
    "\n",
    "#### Value Stocks\n",
    "Invest in Underpriced and penny stock, calculate expected price and determine under or over valued\n",
    "> * Modestly priced\n",
    "> * Mature Firms\n",
    "> * More Stable\n",
    "> * Indutries that aren't rapidly growing\n",
    "> * Exapmle: Railroad, Utility, Industrial equipments makers, Energy providers\n",
    "\n",
    "#### Growth Stocks\n",
    "Invest in growth potential. Perform fundamental anlaysis to predict who well stock do in future based on below factors\n",
    "* Fast Growing\n",
    "* Lower profit\n",
    "* Relatively expensive\n",
    "* Price drop to some specific condition\n",
    "* Example: IT, etc\n",
    "\n",
    "\n",
    "#### Growth at Resaonable Price (GARP)\n",
    "It follow both Growth and Value, Undervalued with growth potential\n",
    "\n",
    "#### Income\n",
    "Trader focus on Highly Dividend instead of capital gain. \n",
    "\n",
    "#### Contrarian\n",
    "Operating against the current market moment.\n",
    "\n",
    "#### Canslim\n",
    "Invest after Fundamental and Technical Analysis\n",
    "\n",
    "#### Hedging\n",
    "It best strategy it insure protection of capital. Holding risk stocks by holding certain stokcs. Hedger takes short position to offset the long positions\n",
    "\n",
    "#### Dogs of the Dow\n",
    "10 best performing stocks in the year with Lowest P/E raios, Highest dividend yields and potential for high growth are slected\n",
    "\n",
    "#### Pigs of the Dow\n",
    "10 worst performing socks in the year , Stocks are sure to rebound\n",
    "\n",
    "#### Buying on Margin\n",
    "It riskiest strategy trader borrowing money from broker.\n",
    "\n",
    "#### Dollar Cost Averaging\n",
    "Invest Fixed amount in share, If price down investor buy more share, average price per share goes down. If price raise new share give good benefit.\n",
    "\n",
    "#### Value Averaging\n",
    "Trader decide to invest based on market mood if market is bull invest more, if its bear invest less\n",
    "\n",
    "#### Market Neutral \n",
    "Trader take long-position on undervalued and short-position on overvalued. It help to diversified and commonly use in hedge.\n",
    "\n",
    "#### Directional\n",
    "Trader make benifit when market go up and when market go down\n",
    "\n",
    "#### Event Driven\n",
    "Trader make profit by the event happen in stocks (dividend, corporate action)"
   ]
  },
  {
   "cell_type": "markdown",
   "id": "6de4580f",
   "metadata": {},
   "source": [
    "## Derivaties \n",
    "\n",
    "### (Option Trading)\n",
    "Contract between two partied to exchange a stock at a \"strike\" price by a predetmined date. \n",
    "\n",
    "#### Call\n",
    "Buyer of the call has right but no obligation to buy the stock at strike price by the future date, while the seller of the call, has the obligation to sell the stock to the buyer at the strike price if the buyer exercises the option.\n",
    "\n",
    "#### Put\n",
    "Buyer of the put has right but no obligation to sell the stock at strike price by the future date, while the seller of the put, has the obligation to buy the stock to the buyer at the strike price if the buyer exercises the option."
   ]
  },
  {
   "cell_type": "markdown",
   "id": "b51dcefb",
   "metadata": {},
   "source": [
    "### Trade Life Cycle\n",
    "\n",
    "Trading -> Clearing -> Settlement\n"
   ]
  },
  {
   "cell_type": "code",
   "execution_count": null,
   "id": "c7c16c38",
   "metadata": {},
   "outputs": [],
   "source": []
  }
 ],
 "metadata": {
  "kernelspec": {
   "display_name": "Python 3 (ipykernel)",
   "language": "python",
   "name": "python3"
  },
  "language_info": {
   "codemirror_mode": {
    "name": "ipython",
    "version": 3
   },
   "file_extension": ".py",
   "mimetype": "text/x-python",
   "name": "python",
   "nbconvert_exporter": "python",
   "pygments_lexer": "ipython3",
   "version": "3.11.3"
  }
 },
 "nbformat": 4,
 "nbformat_minor": 5
}
